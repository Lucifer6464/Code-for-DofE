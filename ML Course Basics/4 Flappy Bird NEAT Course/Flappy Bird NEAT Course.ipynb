{
 "cells": [
  {
   "cell_type": "code",
   "execution_count": 3,
   "metadata": {},
   "outputs": [],
   "source": [
    "import pygame\n",
    "import neat\n",
    "import time\n",
    "import os\n",
    "import random\n",
    "\n",
    "WIDTH = 600\n",
    "HEIGHT = 800\n",
    "\n",
    "BIRD_IMGS = [pygame.transform.scale2x(pygame.image.load('imgs/bird1.png')), pygame.transform.scale2x(pygame.image.load('imgs/bird2.png')), pygame.transform.scale2x(pygame.image.load('imgs/bird3.png'))]"
   ]
  }
 ],
 "metadata": {
  "kernelspec": {
   "display_name": "Python 3",
   "language": "python",
   "name": "python3"
  },
  "language_info": {
   "codemirror_mode": {
    "name": "ipython",
    "version": 3
   },
   "file_extension": ".py",
   "mimetype": "text/x-python",
   "name": "python",
   "nbconvert_exporter": "python",
   "pygments_lexer": "ipython3",
   "version": "3.8.5"
  }
 },
 "nbformat": 4,
 "nbformat_minor": 4
}
